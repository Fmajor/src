{
 "metadata": {
  "name": "",
  "signature": "sha256:3cad62f05c149562330744b99daea52ddf9bda3ab72f0d0651c9844ffad23bea"
 },
 "nbformat": 3,
 "nbformat_minor": 0,
 "worksheets": [
  {
   "cells": [
    {
     "cell_type": "code",
     "collapsed": false,
     "input": [
      "import numpy as np\n",
      "import matplotlib.pyplot as plt\n",
      "import h5py\n",
      "import math\n",
      "from matplotlib.colors import BoundaryNorm\n",
      "from matplotlib.ticker import MaxNLocator"
     ],
     "language": "python",
     "metadata": {},
     "outputs": [],
     "prompt_number": 1
    },
    {
     "cell_type": "code",
     "collapsed": false,
     "input": [
      "#f = h5py.File('/home/lwang/dat/snap.40_0.h5part','r')\n",
      "f = h5py.File('/home/lwang/extradata/GC/B100_king/ns2/snap.40_1172.h5part','r')\n",
      "#f = h5py.File('/home/lwang/data/GC_100/snap/snap.40_0.h5part','r')\n",
      "s = f['/Step#0']\n",
      "b = s['Binaries']\n",
      "m = s['Mergers']"
     ],
     "language": "python",
     "metadata": {},
     "outputs": [],
     "prompt_number": 2
    },
    {
     "cell_type": "code",
     "collapsed": false,
     "input": [
      "t      = np.array(s['TE'])\n",
      "l      = np.array(s['L'])\n",
      "rs     = np.array(s['RS'])\n",
      "k      = np.array(s['KW'])\n",
      "mass   = np.array(s['M'])\n",
      "n      = np.array(s['NAM'])\n",
      "x1     = np.array(s['X1'])\n",
      "x2     = np.array(s['X2'])\n",
      "x3     = np.array(s['X3'])\n",
      "v1     = np.array(s['V1'])\n",
      "v2     = np.array(s['V2'])\n",
      "v3     = np.array(s['V3'])\n",
      "bt1    = np.array(b['TE1'])\n",
      "bt2    = np.array(b['TE2'])\n",
      "bl1    = np.array(b['L1'])\n",
      "bl2    = np.array(b['L2'])\n",
      "brs1   = np.array(b['RS1'])\n",
      "brs2   = np.array(b['RS2'])\n",
      "bk1    = np.array(b['KW1'])\n",
      "bk2    = np.array(b['KW2'])\n",
      "bkc    = np.array(b['KWC'])\n",
      "bmass1 = np.array(b['M1'])\n",
      "bmass2 = np.array(b['M2'])\n",
      "bn1    = np.array(b['NAM1'])\n",
      "bn2    = np.array(b['NAM2'])\n",
      "bnc    = np.array(b['NAMC'])\n",
      "bxc1   = np.array(b['XC1'])\n",
      "bxc2   = np.array(b['XC2'])\n",
      "bxc3   = np.array(b['XC3'])\n",
      "bvc1   = np.array(b['VC1'])\n",
      "bvc2   = np.array(b['VC2'])\n",
      "bvc3   = np.array(b['VC3'])\n",
      "bxr1   = np.array(b['XR1'])\n",
      "bxr2   = np.array(b['XR2'])\n",
      "bxr3   = np.array(b['XR3'])\n",
      "bvr1   = np.array(b['VR1'])\n",
      "bvr2   = np.array(b['VR2'])\n",
      "bvr3   = np.array(b['VR3'])"
     ],
     "language": "python",
     "metadata": {},
     "outputs": [],
     "prompt_number": 3
    },
    {
     "cell_type": "code",
     "collapsed": false,
     "input": [
      "ba = np.array(b['A'])\n",
      "be = np.array(b['ECC'])\n",
      "bp = np.array(b['P'])\n",
      "bm1 = np.array(b['M1'])\n",
      "bm2= np.array(b['M2'])"
     ],
     "language": "python",
     "metadata": {},
     "outputs": [],
     "prompt_number": 4
    },
    {
     "cell_type": "code",
     "collapsed": false,
     "input": [
      "H, xedges, yedges = np.histogram2d(x1, x2, range=[[-10,10],[-10,10]],bins=(100,100))\n",
      "#H, xedges, yedges = np.histogram2d(bm2, bm1, range=[[0.08,100],[0.08,100]],bins=(50,50))\n",
      "# Make a multiple-histogram of data-sets with different length.\n",
      "###x_multi = [np.random.randn(n) for n in [10000, 5000, 2000]]\n",
      "#lev = [0.0,0.1,0.2,0.5,1.0,2.0,4.0,8.0,16.0,32.0] \n",
      "levels = MaxNLocator(nbins=100).tick_values(H.min(), H.max())\n",
      "cmap = plt.get_cmap('PiYG')\n",
      "#norm = BoundaryNorm(levels, ncolors=cmap.N, clip=True)\n",
      "#plt.xlim(xedges[0],xedges[-1])\n",
      "#plt.ylim(yedges[0],yedges[-1])\n",
      "plt.contourf(H, levels = levels, cmap = cmap)\n",
      "plt.colorbar()"
     ],
     "language": "python",
     "metadata": {},
     "outputs": [
      {
       "metadata": {},
       "output_type": "pyout",
       "prompt_number": 16,
       "text": [
        "<matplotlib.colorbar.Colorbar instance at 0x2b064262c830>"
       ]
      },
      {
       "metadata": {},
       "output_type": "display_data",
       "png": "[encoded data removed]",
       "text": [
        "<matplotlib.figure.Figure at 0x2b064239a1d0>"
       ]
      }
     ],
     "prompt_number": 16
    },
    {
     "cell_type": "code",
     "collapsed": false,
     "input": [
      "s.attri()"
     ],
     "language": "python",
     "metadata": {},
     "outputs": [
      {
       "ename": "AttributeError",
       "evalue": "'Group' object has no attribute 'attri'",
       "output_type": "pyerr",
       "traceback": [
        "\u001b[1;31m---------------------------------------------------------------------------\u001b[0m\n\u001b[1;31mAttributeError\u001b[0m                            Traceback (most recent call last)",
        "\u001b[1;32m<ipython-input-14-36015706c612>\u001b[0m in \u001b[0;36m<module>\u001b[1;34m()\u001b[0m\n\u001b[1;32m----> 1\u001b[1;33m \u001b[0ms\u001b[0m\u001b[1;33m.\u001b[0m\u001b[0mattri\u001b[0m\u001b[1;33m(\u001b[0m\u001b[1;33m)\u001b[0m\u001b[1;33m\u001b[0m\u001b[0m\n\u001b[0m",
        "\u001b[1;31mAttributeError\u001b[0m: 'Group' object has no attribute 'attri'"
       ]
      }
     ],
     "prompt_number": 14
    },
    {
     "cell_type": "code",
     "collapsed": false,
     "input": [],
     "language": "python",
     "metadata": {},
     "outputs": []
    }
   ],
   "metadata": {}
  }
 ]
}
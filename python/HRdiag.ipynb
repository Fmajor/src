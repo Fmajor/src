{
 "metadata": {
  "name": "",
  "signature": "sha256:c33c27edd96c12aa348799dde734ad49948ae59f2b34c60dbebd037905b5a3f0"
 },
 "nbformat": 3,
 "nbformat_minor": 0,
 "worksheets": [
  {
   "cells": [
    {
     "cell_type": "code",
     "collapsed": false,
     "input": [
      "import numpy as np\n",
      "import matplotlib as mpl\n",
      "import matplotlib.pyplot as plt\n",
      "from mpl_toolkits.mplot3d import Axes3D"
     ],
     "language": "python",
     "metadata": {},
     "outputs": [],
     "prompt_number": 2
    },
    {
     "cell_type": "code",
     "collapsed": false,
     "input": [
      "import h5py\n",
      "import math"
     ],
     "language": "python",
     "metadata": {},
     "outputs": [],
     "prompt_number": 3
    },
    {
     "cell_type": "code",
     "collapsed": false,
     "input": [
      "f = h5py.File('/home/lwang/data/GC_100/snap/snap.40_999.h5part','r')\n",
      "s = f['/Step#0']\n",
      "b = s['Binaries']\n",
      "m = s['Mergers']"
     ],
     "language": "python",
     "metadata": {},
     "outputs": [],
     "prompt_number": 17
    },
    {
     "cell_type": "code",
     "collapsed": false,
     "input": [
      "t = np.array(map(math.log10,s['TE']))\n",
      "l = np.array(map(math.log10,s['L']))\n",
      "bt = np.array(map(lambda x,y: math.log10(x+y/2), b['TE1'], b['TE2']))\n",
      "bl = np.array(map(lambda x,y: math.log10(x+y), b['L1'], b['L2']))\n",
      "bt1 = np.array(map(math.log10,b['TE1']))\n",
      "bt2 = np.array(map(math.log10,b['TE2']))\n",
      "bl1 = np.array(map(math.log10,b['L1']))\n",
      "bl2 = np.array(map(math.log10,b['L2']))"
     ],
     "language": "python",
     "metadata": {},
     "outputs": [],
     "prompt_number": 36
    },
    {
     "cell_type": "code",
     "collapsed": false,
     "input": [
      "k = s['KW']\n",
      "nk=np.array(k)\n",
      "nt=np.array(t)\n",
      "nl=np.array(l)\n",
      "nk1=np.array(b['KW1'])\n",
      "nk2=np.array(b['KW2'])"
     ],
     "language": "python",
     "metadata": {},
     "outputs": [],
     "prompt_number": 19
    },
    {
     "cell_type": "code",
     "collapsed": false,
     "input": [
      "fig = plt.figure()\n",
      "plt.title('HR diagram')\n",
      "plt.xlabel('Log(Teff[K])')\n",
      "plt.ylabel('Log(L[L*])')\n",
      "plt.xlim(6.5,3.0)\n",
      "plt.ylim(-10.0,10.0)\n",
      "plt.plot(t,l,'.',bt1,bl1,'.',bt2,bl2,'.')"
     ],
     "language": "python",
     "metadata": {},
     "outputs": [
      {
       "metadata": {},
       "output_type": "pyout",
       "prompt_number": 20,
       "text": [
        "[<matplotlib.lines.Line2D at 0x2b29b9bcb5d0>,\n",
        " <matplotlib.lines.Line2D at 0x2b29b9c786d0>,\n",
        " <matplotlib.lines.Line2D at 0x2b29b9c78a90>]"
       ]
      },
      {
       "metadata": {},
       "output_type": "display_data",
       "png": "[encoded data removed]",
       "text": [
        "<matplotlib.figure.Figure at 0x2b29b9bf0310>"
       ]
      }
     ],
     "prompt_number": 20
    },
    {
     "cell_type": "code",
     "collapsed": false,
     "input": [
      "nl[(nt>6) & (nk !=15)]"
     ],
     "language": "python",
     "metadata": {},
     "outputs": [
      {
       "metadata": {},
       "output_type": "pyout",
       "prompt_number": 35,
       "text": [
        "array([ 0.37737193,  0.37737193,  0.37737193,  0.37737193,  0.37737193,\n",
        "        0.37737193,  0.37737193,  0.37737193,  0.37737193,  0.37737193,\n",
        "        0.37737193,  0.37737193,  0.37737193,  0.37737193,  0.37737193,\n",
        "        0.37737193,  0.37737193,  0.37737193,  0.37737193,  0.37737193,\n",
        "        0.37737193,  0.37737193,  0.37737193])"
       ]
      }
     ],
     "prompt_number": 35
    },
    {
     "cell_type": "code",
     "collapsed": false,
     "input": [],
     "language": "python",
     "metadata": {},
     "outputs": []
    }
   ],
   "metadata": {}
  }
 ]
}
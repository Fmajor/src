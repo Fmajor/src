{
 "metadata": {
  "name": "",
  "signature": "sha256:f29db86fbb398ad40796b41d5f5f440a84e1489e2d35e344b2ed1b09d9b52bd8"
 },
 "nbformat": 3,
 "nbformat_minor": 0,
 "worksheets": [
  {
   "cells": [
    {
     "cell_type": "code",
     "collapsed": false,
     "input": [
      "import numpy as np\n",
      "import matplotlib as mpl\n",
      "import matplotlib.pyplot as plt\n",
      "from mpl_toolkits.mplot3d import Axes3D"
     ],
     "language": "python",
     "metadata": {},
     "outputs": [],
     "prompt_number": 1
    },
    {
     "cell_type": "code",
     "collapsed": false,
     "input": [
      "import h5py\n",
      "import math"
     ],
     "language": "python",
     "metadata": {},
     "outputs": [],
     "prompt_number": 2
    },
    {
     "cell_type": "code",
     "collapsed": false,
     "input": [
      "#f = h5py.File('/home/lwang/data/GC_100/snap/snap.40_999.h5part','r')\n",
      "#f = h5py.File('/home/lwang/extradata/GC/B100_king/ns2/snap.40_1172.h5part','r')\n",
      "f = h5py.File('/home/lwang/dat/snap.40_0.h5part','r')\n",
      "s = f['/Step#1']\n",
      "b = s['Binaries']\n",
      "m = s['Mergers']"
     ],
     "language": "python",
     "metadata": {},
     "outputs": [],
     "prompt_number": 25
    },
    {
     "cell_type": "code",
     "collapsed": false,
     "input": [
      "t      = np.array(s['TE'])\n",
      "l      = np.array(s['L'])\n",
      "rs     = np.array(s['RS'])\n",
      "k      = np.array(s['KW'])\n",
      "mass   = np.array(s['M'])\n",
      "n      = np.array(s['NAM'])\n",
      "x1     = np.array(s['X1'])\n",
      "x2     = np.array(s['X2'])\n",
      "x3     = np.array(s['X3'])\n",
      "v1     = np.array(s['V1'])\n",
      "v2     = np.array(s['V2'])\n",
      "v3     = np.array(s['V3'])\n",
      "bt1    = np.array(b['TE1'])\n",
      "bt2    = np.array(b['TE2'])\n",
      "bl1    = np.array(b['L1'])\n",
      "bl2    = np.array(b['L2'])\n",
      "brs1   = np.array(b['RS1'])\n",
      "brs2   = np.array(b['RS2'])\n",
      "bk1    = np.array(b['KW1'])\n",
      "bk2    = np.array(b['KW2'])\n",
      "bkc    = np.array(b['KWC'])\n",
      "bmass1 = np.array(b['M1'])\n",
      "bmass2 = np.array(b['M2'])\n",
      "bn1    = np.array(b['NAM1'])\n",
      "bn2    = np.array(b['NAM2'])\n",
      "bnc    = np.array(b['NAMC'])\n",
      "bxc1   = np.array(b['XC1'])\n",
      "bxc2   = np.array(b['XC2'])\n",
      "bxc3   = np.array(b['XC3'])\n",
      "bvc1   = np.array(b['VC1'])\n",
      "bvc2   = np.array(b['VC2'])\n",
      "bvc3   = np.array(b['VC3'])\n",
      "bxr1   = np.array(b['XR1'])\n",
      "bxr2   = np.array(b['XR2'])\n",
      "bxr3   = np.array(b['XR3'])\n",
      "bvr1   = np.array(b['VR1'])\n",
      "bvr2   = np.array(b['VR2'])\n",
      "bvr3   = np.array(b['VR3'])"
     ],
     "language": "python",
     "metadata": {},
     "outputs": [],
     "prompt_number": 26
    },
    {
     "cell_type": "code",
     "collapsed": false,
     "input": [
      "fig = plt.figure()\n",
      "plt.title('HR diagram')\n",
      "plt.xlabel('Log(Teff[K])')\n",
      "plt.ylabel('Log(L[L*])')\n",
      "plt.xlim(5.5,3.0)\n",
      "plt.ylim(-5.0,8.0)\n",
      "#plt.plot(log10(t),log10(l),'.',log10(bt1),log10(bl1),'.',log10(bt2),log10(bl2),'.')\n",
      "plt.plot(log10(t),log10(l),'.',log10((bt1+bt2)/2),log10(bl1+bl2),'.')"
     ],
     "language": "python",
     "metadata": {},
     "outputs": [
      {
       "metadata": {},
       "output_type": "pyout",
       "prompt_number": 27,
       "text": [
        "[<matplotlib.lines.Line2D at 0x2b65e3f89590>,\n",
        " <matplotlib.lines.Line2D at 0x2b65e42c5350>]"
       ]
      },
      {
       "metadata": {},
       "output_type": "display_data",
       "png": "[encoded data removed]",
       "text": [
        "<matplotlib.figure.Figure at 0x2b65e3fed790>"
       ]
      }
     ],
     "prompt_number": 27
    },
    {
     "cell_type": "code",
     "collapsed": false,
     "input": [
      "select=((bk1==13) | (bk2==13))\n",
      "x1[k==13]"
     ],
     "language": "python",
     "metadata": {},
     "outputs": [
      {
       "metadata": {},
       "output_type": "pyout",
       "prompt_number": 29,
       "text": [
        "array([], dtype=float32)"
       ]
      }
     ],
     "prompt_number": 29
    }
   ],
   "metadata": {}
  }
 ]
}